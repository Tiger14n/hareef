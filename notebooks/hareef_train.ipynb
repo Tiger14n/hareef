{
  "cells": [
    {
      "cell_type": "code",
      "execution_count": null,
      "metadata": {
        "cellView": "form",
        "id": "qyxSMuzjfQrz"
      },
      "outputs": [],
      "source": [
        "#@markdown ## <font color=\"pink\"> **Google Colab Anti-Disconnect.** 🔌\n",
        "#@markdown ---\n",
        "#@markdown #### Avoid automatic disconnection. Still, it will disconnect after <font color=\"orange\">**6 to 12 hours**</font>.\n",
        "\n",
        "import IPython\n",
        "js_code = '''\n",
        "function ClickConnect(){\n",
        "console.log(\"Working\");\n",
        "document.querySelector(\"colab-toolbar-button#connect\").click()\n",
        "}\n",
        "setInterval(ClickConnect,60000)\n",
        "'''\n",
        "display(IPython.display.Javascript(js_code))"
      ]
    },
    {
      "cell_type": "code",
      "execution_count": null,
      "metadata": {
        "cellView": "form",
        "id": "ygxzp-xHTC7T"
      },
      "outputs": [],
      "source": [
        "#@markdown ## <font color=\"pink\"> **Check GPU type.** 👁️\n",
        "#@markdown ---\n",
        "#@markdown #### A higher capable GPU can lead to faster training speeds. By default, you will have a <font color=\"orange\">**Tesla T4**</font>.\n",
        "!nvidia-smi"
      ]
    },
    {
      "cell_type": "code",
      "execution_count": null,
      "metadata": {
        "cellView": "form",
        "id": "sUNjId07JfAK"
      },
      "outputs": [],
      "source": [
        "#@markdown # <font color=\"pink\"> **Mount Google Drive.** 📂\n",
        "from google.colab import drive\n",
        "drive.mount('/content/drive', force_remount=True)"
      ]
    },
    {
      "cell_type": "code",
      "execution_count": null,
      "metadata": {
        "cellView": "form",
        "id": "_XwmTVlcUgCh"
      },
      "outputs": [],
      "source": [
        "#@markdown # <font color=\"pink\"> **Install software.** 📦\n",
        "#@markdown ####In this cell the package and its necessary dependencies to execute the training will be installed. (this may take a while)\n",
        "\n",
        "#@markdown <font color=\"orange\">**Note: Please restart the runtime environment when the cell execution is finished. Then you can continue with the training section.**\n",
        "\n",
        "# clone:\n",
        "!git clone https://github.com/mush42/hareef\n",
        "%cd hareef\n",
        "!pip install --upgrade pip wheel setuptools\n",
        "!pip install -r requirements.txt\n"
      ]
    },
    {
      "cell_type": "code",
      "execution_count": null,
      "metadata": {},
      "outputs": [],
      "source": [
        "#@markdown # <font color=\"pink\"> Get the dataset\n",
        "#@markdown ####In this cell the dataset is obtained\n",
        "\n",
        "!apt-get install p7zip-full\n",
        "\n",
        "!mkdir -p /content/drive/MyDrive/hareef/data/\n",
        "!mkdir -p /content/drive/MyDrive/hareef/training/\n",
        "\n",
        "!mkdir ./corpus\n",
        "%cd ./corpus\n",
        "\n",
        "!7z e /content/drive/MyDrive/arabic-diacritization-corpus.7z\n",
        "!mv arabic-diacritization-corpus.txt corpus.txt\n",
        "\n",
        "%cd .."
      ]
    },
    {
      "cell_type": "code",
      "execution_count": null,
      "metadata": {},
      "outputs": [],
      "source": [
        "#@markdown # <font color=\"pink\"> **Prepare Dataset.**\n",
        "#@markdown ####In this cell the corpus will be processed (this may take a while)\n",
        "\n",
        "!python -m hareef.cbhg.process_corpus --config ./config/cbhg/prod.json --corpus ./corpus/corpus.txt --validate"
      ]
    },
    {
      "cell_type": "code",
      "execution_count": null,
      "metadata": {},
      "outputs": [],
      "source": [
        "#@markdown # <font color=\"pink\"> Start the training\n",
        "#@markdown ####In this cell the training will start (this may take a while)\n",
        "\n",
        "!python -m hareef.cbhg.train --config ./config/cbhg/prod.json\n"
      ]
    },
    {
      "cell_type": "code",
      "execution_count": null,
      "metadata": {},
      "outputs": [],
      "source": [
        "#@markdown # <font color=\"pink\"> Export the final model to ONNX\n",
        "#@markdown ####In this cell the model will be exported to ONNX\n",
        "\n",
        "!python -m hareef.cbhg.export_onnx --config ./config/cbhg/prod.json --output \"/content/drive/MyDrive/hareef/training/model.onnx\""
      ]
    }
  ],
  "metadata": {
    "accelerator": "GPU",
    "colab": {
      "gpuType": "T4",
      "include_colab_link": true,
      "provenance": []
    },
    "gpuClass": "standard",
    "kernelspec": {
      "display_name": "Python 3",
      "name": "python3"
    },
    "language_info": {
      "name": "python"
    }
  },
  "nbformat": 4,
  "nbformat_minor": 0
}
